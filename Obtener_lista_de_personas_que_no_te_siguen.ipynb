{
  "nbformat": 4,
  "nbformat_minor": 0,
  "metadata": {
    "colab": {
      "provenance": [],
      "authorship_tag": "ABX9TyO/yE1LzFOu6CY3tsit6igN"
    },
    "kernelspec": {
      "name": "python3",
      "display_name": "Python 3"
    },
    "language_info": {
      "name": "python"
    }
  },
  "cells": [
    {
      "cell_type": "markdown",
      "source": [
        "# Lista de personas que no te siguen.\n",
        "\n",
        "Recuersa descargar lista"
      ],
      "metadata": {
        "id": "X5NlLCF4hhDI"
      }
    },
    {
      "cell_type": "code",
      "source": [],
      "metadata": {
        "id": "A3BczZZvwqxR"
      },
      "execution_count": null,
      "outputs": []
    },
    {
      "cell_type": "code",
      "source": [
        "!pip install BeautifulSoup4"
      ],
      "metadata": {
        "colab": {
          "base_uri": "https://localhost:8080/"
        },
        "id": "lYur3DOBZQ6u",
        "outputId": "b265c9c6-6078-4044-a1e4-01c98d1e61fa"
      },
      "execution_count": null,
      "outputs": [
        {
          "output_type": "stream",
          "name": "stdout",
          "text": [
            "Requirement already satisfied: BeautifulSoup4 in /usr/local/lib/python3.10/dist-packages (4.12.3)\n",
            "Requirement already satisfied: soupsieve>1.2 in /usr/local/lib/python3.10/dist-packages (from BeautifulSoup4) (2.6)\n"
          ]
        }
      ]
    },
    {
      "cell_type": "markdown",
      "source": [
        "Obtener lista de personas que no te siguen con link a su perfil.\n",
        "> nota: Suele tardar un poco más y problemático si te sigue mucha gente"
      ],
      "metadata": {
        "id": "h5sqis6qgYVy"
      }
    },
    {
      "cell_type": "code",
      "source": [
        "from bs4 import BeautifulSoup\n",
        "\n",
        "# Función para leer y extraer nombres de usuario junto con sus enlaces\n",
        "def extract_usernames_and_links(file_path):\n",
        "    with open(file_path, 'r') as f:\n",
        "        contents = f.read()\n",
        "    soup = BeautifulSoup(contents, 'html.parser')\n",
        "    a_tags = soup.find_all('a')\n",
        "    usernames_with_links = {f\"{tag.text.strip()} [{tag['href']}]\" for tag in a_tags}\n",
        "    return usernames_with_links\n",
        "\n",
        "# Extrayendo nombres de usuario con sus enlaces\n",
        "following_usernames = extract_usernames_and_links('/content/following.html')\n",
        "followers_usernames = extract_usernames_and_links('/content/followers_1.html')\n",
        "\n",
        "# Encontrar las diferencias\n",
        "not_following_back = following_usernames - followers_usernames\n",
        "\n",
        "print(\"Usuarios que no te siguen:\")\n",
        "print(\"--------------------------------\")\n",
        "\n",
        "# Imprimir los resultados\n",
        "for user in sorted(not_following_back):\n",
        "    print(user)\n"
      ],
      "metadata": {
        "collapsed": true,
        "id": "giTpR44SZ3if"
      },
      "execution_count": null,
      "outputs": []
    },
    {
      "cell_type": "markdown",
      "source": [
        "Obtener lista de personas que no te siguen. Solo nombre de usuario, es más rápido y mejor si tienes muchísimos seguidores\n",
        "> nota: más de 100,000"
      ],
      "metadata": {
        "id": "HsrhhGaJgo2V"
      }
    },
    {
      "cell_type": "code",
      "source": [
        "from bs4 import BeautifulSoup\n",
        "\n",
        "# Función para leer y extraer texto de los archivos HTML\n",
        "def extract_usernames_from_html(file_path):\n",
        "    with open(file_path, 'r') as f:\n",
        "        contents = f.read()\n",
        "    soup = BeautifulSoup(contents, 'html.parser')\n",
        "    a_tags = soup.find_all('a')\n",
        "    usernames = {tag.text.strip() for tag in a_tags}  # Usamos un set para eliminar duplicados automáticamente\n",
        "    return usernames\n",
        "\n",
        "# Extrayendo nombres de usuario\n",
        "following_usernames = extract_usernames_from_html('/content/following.html')\n",
        "followers_usernames = extract_usernames_from_html('/content/followers_1.html')\n",
        "\n",
        "# Encontrar las diferencias\n",
        "not_following_back = following_usernames - followers_usernames\n",
        "\n",
        "# Imprimir los resultados\n",
        "print(\"Usuarios que no te siguen:\")\n",
        "print(\"--------------------------------\")\n",
        "\n",
        "for user in sorted(not_following_back):\n",
        "    print(user)\n"
      ],
      "metadata": {
        "id": "llGrpuxYgp-2"
      },
      "execution_count": null,
      "outputs": []
    }
  ]
}